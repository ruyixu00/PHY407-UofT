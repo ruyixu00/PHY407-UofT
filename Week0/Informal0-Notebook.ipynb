{
 "cells": [
  {
   "cell_type": "markdown",
   "metadata": {
    "slideshow": {
     "slide_type": "skip"
    }
   },
   "source": [
    "*Supporting textbook chapters for week 1: 2, 3 and 4.3*"
   ]
  },
  {
   "cell_type": "code",
   "source": [
    "import matplotlib.pyplot as plt\n",
    "import numpy as np"
   ],
   "metadata": {
    "collapsed": false,
    "ExecuteTime": {
     "end_time": "2024-09-18T02:19:04.577849Z",
     "start_time": "2024-09-18T02:19:04.438965Z"
    }
   },
   "outputs": [],
   "execution_count": 10
  },
  {
   "metadata": {
    "ExecuteTime": {
     "end_time": "2024-09-18T02:17:53.144379Z",
     "start_time": "2024-09-18T02:17:53.142044Z"
    }
   },
   "cell_type": "code",
   "source": [
    "def func(x):\n",
    "    return 5*x**3"
   ],
   "outputs": [],
   "execution_count": 5
  },
  {
   "metadata": {
    "ExecuteTime": {
     "end_time": "2024-09-18T02:19:06.263207Z",
     "start_time": "2024-09-18T02:19:06.258602Z"
    }
   },
   "cell_type": "code",
   "source": [
    "x= np.arange(-10, 10, 0.01)\n",
    "x"
   ],
   "outputs": [
    {
     "data": {
      "text/plain": [
       "array([-10.  ,  -9.99,  -9.98, ...,   9.97,   9.98,   9.99])"
      ]
     },
     "execution_count": 11,
     "metadata": {},
     "output_type": "execute_result"
    }
   ],
   "execution_count": 11
  },
  {
   "metadata": {
    "ExecuteTime": {
     "end_time": "2024-09-18T02:19:25.852410Z",
     "start_time": "2024-09-18T02:19:25.770402Z"
    }
   },
   "cell_type": "code",
   "source": "plt.plot(x,func(x))",
   "outputs": [
    {
     "data": {
      "text/plain": [
       "[<matplotlib.lines.Line2D at 0x124d76d00>]"
      ]
     },
     "execution_count": 13,
     "metadata": {},
     "output_type": "execute_result"
    },
    {
     "data": {
      "text/plain": [
       "<Figure size 640x480 with 1 Axes>"
      ],
      "image/png": "[encoded data removed]"
     },
     "metadata": {},
     "output_type": "display_data"
    }
   ],
   "execution_count": 13
  },
  {
   "cell_type": "markdown",
   "metadata": {
    "slideshow": {
     "slide_type": "subslide"
    }
   },
   "source": [
    "# Example 1\n",
    "\n",
    "Suppose the problem is to find the number of radioactive atoms of uranium $N$ as a function of time given initial $N_0$ and\n",
    "$$\\frac{dN}{dt} = -\\frac{N}{\\tau}.$$\n",
    "($\\tau =$ decay constant), using numerical integration, for a duration of $5\\tau$."
   ]
  },
  {
   "cell_type": "markdown",
   "metadata": {
    "slideshow": {
     "slide_type": "fragment"
    },
    "tags": []
   },
   "source": [
    "## Part (a) \n",
    "Write pseudocode for the solution, such that we end up with an array of values of time $t$ (between 0 and $N_0$) and an array of values of $N(t)$"
   ]
  },
  {
   "cell_type": "markdown",
   "source": [],
   "metadata": {
    "collapsed": false
   }
  },
  {
   "cell_type": "markdown",
   "metadata": {},
   "source": [
    "## Part (b)\n",
    "Now write the actual code"
   ]
  },
  {
   "cell_type": "markdown",
   "metadata": {},
   "source": [
    "## Part (c)\n",
    "Use the results of the previous part to make a plot of $N$ vs $t$, with the help of matplotlib.pyplot"
   ]
  },
  {
   "cell_type": "markdown",
   "metadata": {},
   "source": [
    "# Example 2\n",
    "\n",
    "For a particle undergoing Simple Harmonic Oscillation with angular frequency 0.5 rad/s, initial position 3 m, and initial velocity 0 m/s, create a function to find its position as a function of time analytically. Then calculate the velocity and acceleration as a function of time, for 30 seconds, by taking derivatives numerically."
   ]
  },
  {
   "cell_type": "markdown",
   "metadata": {},
   "source": [
    "## Part (a)\n",
    "Write the code for the analytical function"
   ]
  },
  {
   "cell_type": "markdown",
   "metadata": {},
   "source": [
    "## Part (b)\n",
    "Write the pseuudocode for a program that gives us an array of values of time $t$ (between 0 and 30s), and 3 more arrays $x(t)$, $v(t)$, and $a(t)$"
   ]
  },
  {
   "cell_type": "markdown",
   "metadata": {},
   "source": [
    "## Part (c)\n",
    "Now write the actual code for the previous part"
   ]
  },
  {
   "cell_type": "markdown",
   "metadata": {},
   "source": [
    "## Part (d)\n",
    "Using the results of the previous part, make 3 plots: $x(t),v(t),a(t)$"
   ]
  },
  {
   "cell_type": "markdown",
   "metadata": {},
   "source": [
    "## Example 3\n",
    "\n",
    "Read through Example 4.3 on pages 137-138 of the text, which  show you that to multiply two matrices of size $O(N)$ on a side takes $O(N^3)$ operations.\n",
    "So multiplying matrices that are $N=1000$ on a side takes $O(10^9)$ operations (a ``GigaFLOP''). "
   ]
  },
  {
   "cell_type": "markdown",
   "metadata": {},
   "source": [
    "## Part (a)\n",
    "Create two constant matrices $A$ and $B$, then time how long it takes to multiply the matrices to form a matrix $C$ (using the code fragment in the textbook), for a range of $N$ (from $N = 2$ to a few hundred). You should end up with an array of $N$ values and an array of time values. Hint: Use python's time module. "
   ]
  },
  {
   "cell_type": "markdown",
   "metadata": {},
   "source": [
    "## Part (b)\n",
    "Using the results of the previous part, plot this time as a function of $N$ and as a function of $N^3$. What do you notice?"
   ]
  },
  {
   "cell_type": "markdown",
   "metadata": {},
   "source": [
    "## Part (c)\n",
    "Compare your time results to the time it takes numpy.dot to carry out the same operation. What do you notice?\n",
    "See http://tinyurl.com/pythondot for more explanations."
   ]
  }
 ],
 "metadata": {
  "celltoolbar": "Slideshow",
  "kernelspec": {
   "display_name": "Python 3 (ipykernel)",
   "language": "python",
   "name": "python3"
  },
  "language_info": {
   "codemirror_mode": {
    "name": "ipython",
    "version": 3
   },
   "file_extension": ".py",
   "mimetype": "text/x-python",
   "name": "python",
   "nbconvert_exporter": "python",
   "pygments_lexer": "ipython3",
   "version": "3.11.9"
  },
  "latex_metadata": {
   "affiliation": "PHY407, University of Toronto",
   "author": "Nico Grisouard",
   "title": "Lecture 1: python basics"
  }
 },
 "nbformat": 4,
 "nbformat_minor": 4
}
