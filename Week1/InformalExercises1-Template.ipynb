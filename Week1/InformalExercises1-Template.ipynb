{
 "cells": [
  {
   "metadata": {
    "ExecuteTime": {
     "end_time": "2024-09-18T13:17:13.964882Z",
     "start_time": "2024-09-18T13:17:13.636303Z"
    }
   },
   "cell_type": "code",
   "source": [
    "import numpy as np\n",
    "import matplotlib.pyplot as plt"
   ],
   "id": "da42c574e6778f13",
   "outputs": [],
   "execution_count": 1
  },
  {
   "cell_type": "markdown",
   "id": "a3ddacb7-c031-40cb-b93f-26a5eea72174",
   "metadata": {},
   "source": [
    "## 1. Numerical Error"
   ]
  },
  {
   "cell_type": "markdown",
   "id": "ed4782c0-5d5e-4978-8330-31fed011a720",
   "metadata": {},
   "source": [
    "## Part (a)\n",
    "Write code to generate an array of length $N$, filled with random numbers from a Gaussian distribution (with mean $x$ and standard deviation $\\sigma$), and make a histogram (with $m$ bins) of the array values. (You are encouraged to import functions from numpy and matplotlib.pyplot) Test this code, performing at least two sanity checks to make sure it's working properly."
   ]
  },
  {
   "metadata": {
    "ExecuteTime": {
     "end_time": "2024-09-18T13:19:38.927489Z",
     "start_time": "2024-09-18T13:19:38.864321Z"
    }
   },
   "cell_type": "code",
   "source": [
    "N = np.random.normal(0,0.1,1000) #making random gaussian array length 1000 with mean of 0 and std of 0.1 \n",
    "N\n",
    "plt.hist(N, bins = 20) #plotting histogram with 20 bins \n"
   ],
   "id": "df3d81280ad824",
   "outputs": [
    {
     "data": {
      "text/plain": [
       "(array([  4.,   5.,  14.,  22.,  37.,  54.,  90., 122., 123., 112., 102.,\n",
       "        101.,  79.,  63.,  39.,  21.,   8.,   1.,   2.,   1.]),\n",
       " array([-0.29402073, -0.26254473, -0.23106873, -0.19959274, -0.16811674,\n",
       "        -0.13664074, -0.10516474, -0.07368874, -0.04221275, -0.01073675,\n",
       "         0.02073925,  0.05221525,  0.08369125,  0.11516724,  0.14664324,\n",
       "         0.17811924,  0.20959524,  0.24107124,  0.27254723,  0.30402323,\n",
       "         0.33549923]),\n",
       " <BarContainer object of 20 artists>)"
      ]
     },
     "execution_count": 5,
     "metadata": {},
     "output_type": "execute_result"
    },
    {
     "data": {
      "text/plain": [
       "<Figure size 640x480 with 1 Axes>"
      ],
      "image/png": "[encoded data removed]"
     },
     "metadata": {},
     "output_type": "display_data"
    }
   ],
   "execution_count": 5
  },
  {
   "cell_type": "markdown",
   "id": "5380753d-6433-4d15-8853-b620146f9d65",
   "metadata": {},
   "source": [
    "## Part (b)\n",
    "Now write a function to: generate two arrays as in the previous part (where the first Gaussian has  $x_1,\\sigma_1$ and the second Gaussian has $x_2,\\sigma_2$), make a third array that is the element-wise sum of these two arrays, and make a histogram of the 'array values. The function should take $x_1,\\sigma_1, x_2, \\sigma_2$ as arguments."
   ]
  },
  {
   "metadata": {
    "ExecuteTime": {
     "end_time": "2024-09-18T13:25:26.263944Z",
     "start_time": "2024-09-18T13:25:26.161393Z"
    }
   },
   "cell_type": "code",
   "source": [
    "N_1 = np.random.normal(0,0.1,1000) # random gaussian array length 1000 with mean of 0 and std of 0.1 \n",
    "N_2 = np.random.normal(1,0.5,1000) # random gaussian array length 1000 with mean of 1 and std of 0.5 \n",
    "N_sum = np.add(N_1,N_2) #element wise array addition\n",
    "plt.hist(N_1, bins = 20, label = 'N1') #plotting each array in histogram with 20 bins\n",
    "plt.hist(N_2, bins = 20, label = 'N2')\n",
    "plt.hist(N_sum, bins = 20,label = 'Sum') \n",
    "plt.legend()"
   ],
   "id": "2fab4c8ee8e1b1bd",
   "outputs": [
    {
     "data": {
      "text/plain": [
       "<matplotlib.legend.Legend at 0x11343b190>"
      ]
     },
     "execution_count": 10,
     "metadata": {},
     "output_type": "execute_result"
    },
    {
     "data": {
      "text/plain": [
       "<Figure size 640x480 with 1 Axes>"
      ],
      "image/png": "[encoded data removed]"
     },
     "metadata": {},
     "output_type": "display_data"
    }
   ],
   "execution_count": 10
  },
  {
   "cell_type": "markdown",
   "id": "221b968d-e8fe-41b6-bbec-44e5750681b5",
   "metadata": {},
   "source": [
    "## Part (c)\n",
    "\n",
    "Recall from your physics labs, when you make repeated measurements of a quantity, the measurements follow a Gaussian distribution, where the mean (hopefully) represents the 'true' value of the quantity and the standard deviation represents the statistical uncertainty (error) on the measurement. \n",
    "If you make repeated measurements of two different quantities, and use these two quantities to calculate a third quantity, the error propagates, so you have to use error propagation formulas to figure out the uncertainty on the third quantity.\n",
    "\n",
    "Numerical errors in calculations propagate in a similar manner. We can represent the numerical error on stored value $x$ as $\\sigma$, and define our fractional error constant as $C$ such that $\\sigma = C |x|$.\n",
    "\n",
    "Plugging this into the previous part, we get $\\sigma_1 = C |x_1|, \\sigma_2 = C |x_2|$. Try this with: $N=10^6, m=100, C=10^{-14}, x_1 = 100, x_2 = -100$. (For the purposes of this exercise, we're using a much larger value of $C$ than the machine precision, so that we can see its effect.) Now try again with different mean values: $x_1 = 1.0, x_2 = -1.0$\n",
    "\n",
    "Hopefully, you now see visually why adding a positive number to a negative number, where both have large absolutely values, can produce large errors."
   ]
  },
  {
   "metadata": {},
   "cell_type": "code",
   "outputs": [],
   "execution_count": null,
   "source": "N_1 = np.random.normal(0,0.1,1000)",
   "id": "2bdcafff7fc9cc0a"
  },
  {
   "cell_type": "markdown",
   "id": "4793fbbc-6e00-4728-ac93-53ac2ee40f71",
   "metadata": {},
   "source": [
    "# 2. Approximation Error"
   ]
  },
  {
   "cell_type": "markdown",
   "id": "b05efffc-fe14-4a5e-a257-12f69f7122de",
   "metadata": {
    "slideshow": {
     "slide_type": "subslide"
    }
   },
   "source": [
    "Consider this system representing phasor rotation in the complex plane:\n",
    "    $$\\dot Z = i\\omega Z, \\quad\\text{given}\\quad Z_0 = Z(t=0).$$\n",
    "    \n",
    "The analytical solution is:\n",
    "    $Z(t) = Z_0 \\exp(i\\omega t).$\n",
    "\n",
    "How can we solve it numerically? We could try using its Taylor expansion:\n",
    "$$\\dot Z(t) = \\frac{Z(t+\\Delta t)-Z(t)}{\\Delta t} + H.O.T. = i\\omega Z(t).$$\n",
    "And use a simple algorithm such as: \n",
    "* Start with $Z_0$ = $Z(t=0)=Z_{old}$,\n",
    "* $Z_{new} = (1+i\\omega \\Delta t)Z_{old}$,\n",
    "* repeat for a large number $n$ of timesteps until we complete a full rotation\n",
    "\n",
    "It turns out this simple algorithm is unstable, because of the accumulation of error."
   ]
  },
  {
   "cell_type": "markdown",
   "id": "47cfb73c-d212-4f27-a113-1f80b452e009",
   "metadata": {},
   "source": [
    "## Part (a)\n",
    "Write the code to implement the above algorithm, with $\\omega, Z_0, n$ as parameters that can be set in the code. You should end up with an array of $t$ values and an array of $Z$ values covering a full rotation.\n",
    "\n",
    "You may want to make use of numpy.pi"
   ]
  },
  {
   "cell_type": "markdown",
   "id": "1bd389de-5c8d-42ab-b9e1-619f0d6a786f",
   "metadata": {},
   "source": [
    "## Part (b)\n",
    "Using the code in the previous part, plot $|Z|(t)$ (absolute value of $Z$, as a function of $t$) for $n=200,Z_0=1,\\omega=1$Hz . Is the result what you expected? Why?"
   ]
  },
  {
   "cell_type": "code",
   "execution_count": null,
   "id": "c4b92133-296d-47c7-8bfc-fda0c3d2f854",
   "metadata": {},
   "outputs": [],
   "source": []
  }
 ],
 "metadata": {
  "kernelspec": {
   "display_name": "Python 3 (ipykernel)",
   "language": "python",
   "name": "python3"
  },
  "language_info": {
   "codemirror_mode": {
    "name": "ipython",
    "version": 3
   },
   "file_extension": ".py",
   "mimetype": "text/x-python",
   "name": "python",
   "nbconvert_exporter": "python",
   "pygments_lexer": "ipython3",
   "version": "3.11.9"
  }
 },
 "nbformat": 4,
 "nbformat_minor": 5
}
