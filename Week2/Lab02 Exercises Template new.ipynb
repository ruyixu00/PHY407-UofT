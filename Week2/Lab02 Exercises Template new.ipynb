{
 "cells": [
  {
   "cell_type": "markdown",
   "id": "73470bfd-6bf1-4694-8f37-bd16c5c5faa3",
   "metadata": {},
   "source": [
    "## Example 1"
   ]
  },
  {
   "cell_type": "markdown",
   "id": "8287824e-6a08-4a18-a6b3-80a415571634",
   "metadata": {},
   "source": [
    "Evaluate the integral of $f(x) = x^4 - 2x^3 + 1$ on the interval $[0, 2]$: first symbolically, and then numerically using the trapezoidal rule."
   ]
  },
  {
   "cell_type": "markdown",
   "id": "7a4d2426-4bc0-4aed-8ff5-b037b922e5a0",
   "metadata": {
    "slideshow": {
     "slide_type": "fragment"
    }
   },
   "source": [
    "Note, we can evaluate the integral symbolically as long as the function has an analytical expression that SymPy (or Maple, Mathematica, Wolfram Alpha...) knows how to solve. Otherwise, numerical integration is required."
   ]
  },
  {
   "cell_type": "code",
   "id": "81cab957-162e-4de5-abe5-d5e6d4bd5e91",
   "metadata": {
    "cell_style": "split",
    "slideshow": {
     "slide_type": "fragment"
    },
    "tags": [],
    "ExecuteTime": {
     "end_time": "2024-09-25T13:19:37.648269Z",
     "start_time": "2024-09-25T13:19:37.645045Z"
    }
   },
   "source": [
    "from sympy import * # the symbolic math package\n",
    "import numpy as np\n",
    "\n",
    "def f(x):\n",
    "    return x**4 - 2*x**3 + 1\n",
    "\n",
    "a = 0.0  # beginning of interval\n",
    "b = 2.0  # end of interval"
   ],
   "outputs": [],
   "execution_count": 7
  },
  {
   "cell_type": "code",
   "id": "7ce84c82-65c2-4363-8c67-c722c13710be",
   "metadata": {
    "tags": [],
    "ExecuteTime": {
     "end_time": "2024-09-25T13:10:23.741404Z",
     "start_time": "2024-09-25T13:10:23.680311Z"
    }
   },
   "source": [
    "# symbolic integration\n",
    "xs = Symbol('xs', real=True)  # the variable of integration\n",
    "integrate(f(xs), (xs, a, b))"
   ],
   "outputs": [
    {
     "data": {
      "text/plain": [
       "0.400000000000000"
      ],
      "text/latex": "$\\displaystyle 0.4$"
     },
     "execution_count": 2,
     "metadata": {},
     "output_type": "execute_result"
    }
   ],
   "execution_count": 2
  },
  {
   "metadata": {},
   "cell_type": "markdown",
   "source": "by trapezoidal rule",
   "id": "cbd651e4275525ed"
  },
  {
   "metadata": {
    "ExecuteTime": {
     "end_time": "2024-09-25T13:20:44.484653Z",
     "start_time": "2024-09-25T13:20:44.480961Z"
    }
   },
   "cell_type": "code",
   "source": [
    "def trapezoidal_rule(a, b, n): #def trapezoid\n",
    "    h = (b - a) / n\n",
    "    x = np.linspace(a, b, n+1)\n",
    "    y = f(x)\n",
    "    integral = (h/2) * (y[0] + 2 * np.sum(y[1:n]) + y[n])\n",
    "    return integral\n",
    "\n",
    "a = 0 #def intervals and Number of subdivisions\n",
    "b = 2\n",
    "n = 100  "
   ],
   "id": "686afc2e78dbac36",
   "outputs": [],
   "execution_count": 8
  },
  {
   "metadata": {
    "ExecuteTime": {
     "end_time": "2024-09-25T13:21:17.621873Z",
     "start_time": "2024-09-25T13:21:17.618474Z"
    }
   },
   "cell_type": "code",
   "source": [
    "result = trapezoidal_rule(a, b, n)\n",
    "print(result)"
   ],
   "id": "a1fb8377b52f99bb",
   "outputs": [
    {
     "name": "stdout",
     "output_type": "stream",
     "text": [
      "0.400266656\n"
     ]
    }
   ],
   "execution_count": 11
  },
  {
   "cell_type": "markdown",
   "id": "56f35391-a5dd-42b0-ba5b-e91ddc69897d",
   "metadata": {},
   "source": [
    "## Example 2"
   ]
  },
  {
   "cell_type": "markdown",
   "id": "d5217494-6d9c-44c0-b4b6-7e7d16f928f4",
   "metadata": {},
   "source": [
    "Let's have a look at Newman's gaussxw and gausswab code. Recall: \n",
    "* Use `gaussxw` for integration limits from $-1$ to $+1$,\n",
    "* Use `gaussxwab` for integration limits from $a$ to $b$.\n",
    "* Since the calculation of weights and points is expensive, use `gaussxw.py` if you are going to change the limits repeatedly (see textbook pages 167-168 for how)."
   ]
  },
  {
   "cell_type": "code",
   "id": "cb85239d-2ba5-4d8d-bb07-bd42a15d85b7",
   "metadata": {
    "slideshow": {
     "slide_type": "subslide"
    },
    "tags": [],
    "ExecuteTime": {
     "end_time": "2024-09-25T13:23:46.639398Z",
     "start_time": "2024-09-25T13:23:46.633369Z"
    }
   },
   "source": [
    "# %load gaussxw\n",
    "from pylab import *\n",
    "def gaussxw(N):\n",
    "\n",
    "    # Initial approximation to roots of the Legendre polynomial\n",
    "    a = linspace(3,4*N-1,N)/(4*N+2)\n",
    "    x = cos(pi*a+1/(8*N*N*tan(a)))\n",
    "\n",
    "    # Find roots using Newton's method\n",
    "    epsilon = 1e-15\n",
    "    delta = 1.0\n",
    "    while delta>epsilon:\n",
    "        p0 = ones(N,float)\n",
    "        p1 = copy(x)\n",
    "        for k in range(1,N):\n",
    "            p0,p1 = p1,((2*k+1)*x*p1-k*p0)/(k+1)\n",
    "        dp = (N+1)*(p0-x*p1)/(1-x*x)\n",
    "        dx = p1/dp\n",
    "        x -= dx\n",
    "        delta = max(abs(dx))\n",
    "\n",
    "    # Calculate the weights\n",
    "    w = 2*(N+1)*(N+1)/(N*N*(1-x*x)*dp*dp)\n",
    "\n",
    "    return x,w\n",
    "\n",
    "def gaussxwab(N,a,b):\n",
    "    x,w = gaussxw(N)\n",
    "    return 0.5*(b-a)*x+0.5*(b+a),0.5*(b-a)*w"
   ],
   "outputs": [],
   "execution_count": 13
  },
  {
   "cell_type": "markdown",
   "id": "6783e0d1-e754-48f4-85ab-85ce0d1d7688",
   "metadata": {},
   "source": [
    "Reproduce Newman's Figure 5.4 with the help of the above code."
   ]
  },
  {
   "metadata": {
    "ExecuteTime": {
     "end_time": "2024-09-25T13:34:05.553901Z",
     "start_time": "2024-09-25T13:34:05.549983Z"
    }
   },
   "cell_type": "code",
   "source": "from numpy.polynomial.legendre import leggauss",
   "id": "7b9a2191dc2bd6d4",
   "outputs": [],
   "execution_count": 15
  },
  {
   "metadata": {
    "ExecuteTime": {
     "end_time": "2024-09-25T13:43:00.299085Z",
     "start_time": "2024-09-25T13:43:00.141447Z"
    }
   },
   "cell_type": "code",
   "source": [
    "N_values = [10, 100]\n",
    "\n",
    "fig, axs = plt.subplots(1, 2, figsize=(12, 6))\n",
    "\n",
    "for idx, N in enumerate(N_values):\n",
    "    x, w = gaussxw(N)  # positions (x) and weights (w) for Gaussian quadrature\n",
    "    \n",
    "    # Plotting\n",
    "    axs[idx].bar(x, w, width=0.02 if N == 100 else 0.1, align='center')\n",
    "    axs[idx].set_xlabel('Position $x$')\n",
    "    axs[idx].set_ylabel('Weight $w$')\n",
    "    axs[idx].set_title(f'Gaussian Quadrature with N={N}')\n",
    "    axs[idx].grid(True)\n",
    "\n",
    "# Display the plot\n",
    "plt.show()"
   ],
   "id": "37ed58cf80853f88",
   "outputs": [
    {
     "data": {
      "text/plain": [
       "<Figure size 1200x600 with 2 Axes>"
      ],
      "image/png": "[encoded data removed]"
     },
     "metadata": {},
     "output_type": "display_data"
    }
   ],
   "execution_count": 22
  },
  {
   "cell_type": "markdown",
   "id": "d1ff29c9-261e-46fc-895f-ec0346fe7404",
   "metadata": {},
   "source": [
    "![](gauss.PNG)"
   ]
  },
  {
   "cell_type": "markdown",
   "id": "d8439414-0021-4e1e-89da-5fabe9909b97",
   "metadata": {
    "slideshow": {
     "slide_type": "subslide"
    },
    "tags": []
   },
   "source": [
    "## Example 3\n",
    "\n",
    "Compute $\\displaystyle \\int_{-1}^{1} \\left[x^4 + \\sin(x^2)\\right]dx$ : first symbolically, and then using Gaussian quadrature."
   ]
  },
  {
   "cell_type": "code",
   "id": "128aa61a-2f2d-41cd-a110-bf8166d45d84",
   "metadata": {
    "slideshow": {
     "slide_type": "subslide"
    },
    "tags": [],
    "ExecuteTime": {
     "end_time": "2024-09-25T13:13:28.140856Z",
     "start_time": "2024-09-25T13:13:27.984345Z"
    }
   },
   "source": [
    "# first, plot the function using symbolic math package\n",
    "from sympy import * \n",
    "init_printing()\n",
    "x = symbols('x', real=True)\n",
    "f = x**4 + sin(x**2)\n",
    "plotting.plot(f, (x, -1, 1))"
   ],
   "outputs": [
    {
     "data": {
      "text/plain": [
       "<Figure size 640x480 with 1 Axes>"
      ],
      "image/png": "[encoded data removed]"
     },
     "metadata": {},
     "output_type": "display_data"
    },
    {
     "data": {
      "text/plain": [
       "<sympy.plotting.plot.Plot at 0x13ed0ebe0>"
      ]
     },
     "execution_count": 4,
     "metadata": {},
     "output_type": "execute_result"
    }
   ],
   "execution_count": 4
  },
  {
   "cell_type": "code",
   "id": "48a57170-3418-4b43-bedc-427f31494db1",
   "metadata": {
    "slideshow": {
     "slide_type": "fragment"
    },
    "tags": [],
    "ExecuteTime": {
     "end_time": "2024-09-25T13:13:35.833758Z",
     "start_time": "2024-09-25T13:13:35.348287Z"
    }
   },
   "source": [
    "# integrate using symbolic math package\n",
    "res=integrate(f, (x, -1, +1))\n",
    "res"
   ],
   "outputs": [
    {
     "data": {
      "text/plain": [
       "             ⎛√2⎞       \n",
       "    3⋅√2⋅√π⋅S⎜──⎟⋅Γ(3/4)\n",
       "2            ⎝√π⎠       \n",
       "─ + ────────────────────\n",
       "5         4⋅Γ(7/4)      "
      ],
      "image/png": "[encoded data removed]",
      "text/latex": "$\\displaystyle \\frac{2}{5} + \\frac{3 \\sqrt{2} \\sqrt{\\pi} S\\left(\\frac{\\sqrt{2}}{\\sqrt{\\pi}}\\right) \\Gamma\\left(\\frac{3}{4}\\right)}{4 \\Gamma\\left(\\frac{7}{4}\\right)}$"
     },
     "execution_count": 5,
     "metadata": {},
     "output_type": "execute_result"
    }
   ],
   "execution_count": 5
  },
  {
   "cell_type": "code",
   "id": "dd47a630-94d8-4a26-8bcf-1bdb34300111",
   "metadata": {
    "slideshow": {
     "slide_type": "fragment"
    },
    "tags": [],
    "ExecuteTime": {
     "end_time": "2024-09-25T13:13:37.637232Z",
     "start_time": "2024-09-25T13:13:37.620482Z"
    }
   },
   "source": [
    "# Numerical evaluation\n",
    "N(res)"
   ],
   "outputs": [
    {
     "data": {
      "text/plain": [
       "1.02053660344676"
      ],
      "image/png": "[encoded data removed]",
      "text/latex": "$\\displaystyle 1.02053660344676$"
     },
     "execution_count": 6,
     "metadata": {},
     "output_type": "execute_result"
    }
   ],
   "execution_count": 6
  },
  {
   "metadata": {},
   "cell_type": "markdown",
   "source": "By Gaussian quadrature",
   "id": "e3dde453fc38c36a"
  },
  {
   "cell_type": "code",
   "id": "4c932702-eeb2-4a31-b420-a6e3b274211a",
   "metadata": {
    "ExecuteTime": {
     "end_time": "2024-09-25T13:44:47.915846Z",
     "start_time": "2024-09-25T13:44:47.911894Z"
    }
   },
   "source": [
    "#from newman pg170\n",
    "def f(x):\n",
    "    return x**4 + sin(x**2)\n",
    "N=50 \n",
    "a= -1.0 \n",
    "b =1.0\n",
    "\n",
    "#finding pos and weight\n",
    "x,w = gaussxw(N)\n",
    "xp = 0.5*(b-a)*x + 0.5*(b+a)\n",
    "wp = 0.5*(b-a)*w\n",
    "\n",
    "\n",
    "s =0.0\n",
    "for k in range(N):\n",
    "    s += wp[k]*f(xp[k]) \n",
    "print(s)"
   ],
   "outputs": [
    {
     "name": "stdout",
     "output_type": "stream",
     "text": [
      "1.0205366034467604\n"
     ]
    }
   ],
   "execution_count": 24
  },
  {
   "metadata": {},
   "cell_type": "code",
   "outputs": [],
   "execution_count": null,
   "source": "",
   "id": "2c86a68a3ef374f2"
  }
 ],
 "metadata": {
  "kernelspec": {
   "display_name": "Python 3 (ipykernel)",
   "language": "python",
   "name": "python3"
  },
  "language_info": {
   "codemirror_mode": {
    "name": "ipython",
    "version": 3
   },
   "file_extension": ".py",
   "mimetype": "text/x-python",
   "name": "python",
   "nbconvert_exporter": "python",
   "pygments_lexer": "ipython3",
   "version": "3.11.9"
  }
 },
 "nbformat": 4,
 "nbformat_minor": 5
}
